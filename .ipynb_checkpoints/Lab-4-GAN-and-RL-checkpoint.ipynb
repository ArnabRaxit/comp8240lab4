{
 "cells": [
  {
   "cell_type": "markdown",
   "metadata": {},
   "source": [
    "# COMP4660/8420 Introduction to GAN and RL "
   ]
  },
  {
   "cell_type": "markdown",
   "metadata": {},
   "source": [
    "## Part 1. Theory questions "
   ]
  },
  {
   "cell_type": "markdown",
   "metadata": {},
   "source": [
    "#### 1. What is the main difference between the Generator and the Discriminator in a GAN that produces images?"
   ]
  },
  {
   "cell_type": "markdown",
   "metadata": {},
   "source": [
    "#### 2. What is the goal of unsupervised pre-training?"
   ]
  },
  {
   "cell_type": "markdown",
   "metadata": {},
   "source": [
    "#### 3. What is the difference between Q-Learning and Policy Gradients?"
   ]
  },
  {
   "cell_type": "markdown",
   "metadata": {},
   "source": [
    "## Part 2. Practice questions "
   ]
  },
  {
   "cell_type": "markdown",
   "metadata": {},
   "source": [
    "Please load the three files, namely `GANmnist.py`, `reninforcement_q_learning.py` and `reinforcement_pg_learning.py`. \n",
    "\n",
    "For the GAN code please fill in three lines of missing codes to get it running. An advanced part is getting it to run on one of the other datasets that are commented out at the top. Please notice that both the Generator and Discriminator would need to be adjusted to account for the different image sizes.\n",
    "\n",
    "For the reinforcement learning part, both algorithms are fully functional as is, but can be tweaked in terms of the hyperparameters to perform better. The programs are the two algorithms introduced in the lecture training on a Python AI gym problem where they need to learn to balance a pole on a moving block by choosing from the moves left and right at each time step. "
   ]
  },
  {
   "cell_type": "markdown",
   "metadata": {},
   "source": [
    "** <span style=\"color:red\">WARNING</span>: All the programming problems take a bit of time to run (probably around an hour or two minimum on a basic laptop). ** To save your time, we have provided you with the trained weights. That is, if you merely want to see the results, just use these weights. \n",
    "\n",
    "Nonetheless, both the GAN and the RL examples are quite interesting to see the progression of learning. The GAN example produces sample images at each iteration and both reinforcement learning examples produce a graph of episode length. So, if you are interested, you can run the programs overnight. "
   ]
  }
 ],
 "metadata": {
  "kernelspec": {
   "display_name": "Python 3",
   "language": "python",
   "name": "python3"
  },
  "language_info": {
   "codemirror_mode": {
    "name": "ipython",
    "version": 3
   },
   "file_extension": ".py",
   "mimetype": "text/x-python",
   "name": "python",
   "nbconvert_exporter": "python",
   "pygments_lexer": "ipython3",
   "version": "3.6.4"
  }
 },
 "nbformat": 4,
 "nbformat_minor": 2
}
